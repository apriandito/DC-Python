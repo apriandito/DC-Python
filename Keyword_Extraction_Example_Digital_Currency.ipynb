{
  "nbformat": 4,
  "nbformat_minor": 0,
  "metadata": {
    "colab": {
      "name": "Keyword Extraction Example - Digital Currency",
      "provenance": [],
      "authorship_tag": "ABX9TyPF7uMK/+hVMaIcSESr0vih",
      "include_colab_link": true
    },
    "kernelspec": {
      "name": "python3",
      "display_name": "Python 3"
    },
    "language_info": {
      "name": "python"
    }
  },
  "cells": [
    {
      "cell_type": "markdown",
      "metadata": {
        "id": "view-in-github",
        "colab_type": "text"
      },
      "source": [
        "<a href=\"https://colab.research.google.com/github/apriandito/DC-Python/blob/main/Keyword_Extraction_Example_Digital_Currency.ipynb\" target=\"_parent\"><img src=\"https://colab.research.google.com/assets/colab-badge.svg\" alt=\"Open In Colab\"/></a>"
      ]
    },
    {
      "cell_type": "code",
      "metadata": {
        "id": "iLfxVGUnpKdV"
      },
      "source": [
        "# Load packages\n",
        "import nltk"
      ],
      "execution_count": null,
      "outputs": []
    },
    {
      "cell_type": "code",
      "metadata": {
        "colab": {
          "base_uri": "https://localhost:8080/"
        },
        "id": "5v6xabOSpPql",
        "outputId": "f8b92801-771c-423f-dc96-d18b176f59d1"
      },
      "source": [
        "# Download Packages\n",
        "nltk.download('punkt')\n",
        "nltk.download('averaged_perceptron_tagger')"
      ],
      "execution_count": null,
      "outputs": [
        {
          "output_type": "stream",
          "text": [
            "[nltk_data] Downloading package punkt to /root/nltk_data...\n",
            "[nltk_data]   Unzipping tokenizers/punkt.zip.\n",
            "[nltk_data] Downloading package averaged_perceptron_tagger to\n",
            "[nltk_data]     /root/nltk_data...\n",
            "[nltk_data]   Unzipping taggers/averaged_perceptron_tagger.zip.\n"
          ],
          "name": "stdout"
        },
        {
          "output_type": "execute_result",
          "data": {
            "text/plain": [
              "True"
            ]
          },
          "metadata": {
            "tags": []
          },
          "execution_count": 2
        }
      ]
    },
    {
      "cell_type": "code",
      "metadata": {
        "id": "Qi2GjNOBpWv8"
      },
      "source": [
        "# input text\n",
        "sentence = \"Chinas digital currency could briefly become the world reserve currency, while the dollar collapses.\""
      ],
      "execution_count": null,
      "outputs": []
    },
    {
      "cell_type": "code",
      "metadata": {
        "id": "lm5WUYfGpYf8"
      },
      "source": [
        "# tokene into words\n",
        "tokens = nltk.word_tokenize(sentence)"
      ],
      "execution_count": null,
      "outputs": []
    },
    {
      "cell_type": "code",
      "metadata": {
        "id": "m_BCueHVpZeT"
      },
      "source": [
        "# parts of speech tagging\n",
        "tagged = nltk.pos_tag(tokens)"
      ],
      "execution_count": null,
      "outputs": []
    },
    {
      "cell_type": "code",
      "metadata": {
        "id": "pcUAgLc_paab"
      },
      "source": [
        "# print tagged tokens\n",
        "print(tagged)"
      ],
      "execution_count": null,
      "outputs": []
    },
    {
      "cell_type": "markdown",
      "metadata": {
        "id": "EVLWiUmiqahE"
      },
      "source": [
        "**Tag List**\n",
        "* CC: Coordinating Conjunction\n",
        "* CD:  Cardinal Digit\n",
        "* DT: Determiner\n",
        "* EX: Existential There. Example: “there is” … think of it like “there exists”)\n",
        "* FW: Foreign Word.\n",
        "* IN: Preposition/Subordinating Conjunction.\n",
        "* JJ: Adjective.\n",
        "* JJR: Adjective, Comparative.\n",
        "* JJS: Adjective, Superlative.\n",
        "* LS: List Marker 1.\n",
        "* MD: Modal.\n",
        "* NN: Noun, Singular.\n",
        "* NNS: Noun Plural.\n",
        "* NNP Proper Noun, Singular.\n",
        "* NNPS: Proper Noun, Plural.\n",
        "* PDT: Predeterminer.\n",
        "* POS: Possessive Ending. Example: parent’s\n",
        "* PRP: Personal Pronoun. Examples: I, he, she\n",
        "* PRP: Possessive Pronoun. Examples: my, his, hers\n",
        "* RB: Adverb. Examples: very, silently,\n",
        "* RBR: Adverb, Comparative. Example: better\n",
        "* RBS: Adverb, Superlative. Example: best\n",
        "* RP: Particle. Example: give up\n",
        "* TO: to. Example: go ‘to’ the store.\n",
        "* UH: Interjection. Example: errrrrrrrm\n",
        "* VB: Verb, Base Form. Example: take\n",
        "* VBD: Verb, Past Tense. Example: took\n",
        "* VBG: Verb, Gerund/Present Participle. Example: taking\n",
        "* VBN: Verb, Past Participle. Example: taken\n",
        "* VBP: Verb, Sing Present, non-3d take\n",
        "* VBZ: Verb, 3rd person sing. present takes\n",
        "* WDT: wh-determiner. Example: which\n",
        "* WP: wh-pronoun. Example: who, what\n",
        "* WP: possessive wh-pronoun. Example: whose\n",
        "* WRB: wh-abverb. Example: where, when\n"
      ]
    }
  ]
}